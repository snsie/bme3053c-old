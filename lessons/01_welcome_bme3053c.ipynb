{
  "cells": [
    {
      "cell_type": "markdown",
      "metadata": {
        "id": "zxMSBUaZoKCY"
      },
      "source": [
        "#BME3053C - Computer Applications for BME\n",
        "\n",
        "<br/>\n",
        "\n",
        "<h1 align=\"center\">Welcome and Course Outline</h1>\n",
        "\n",
        "---\n",
        "\n",
        "<center><h2>Lesson 01</h2></center>\n",
        "\n",
        "\n",
        "[![Open In Colab](https://colab.research.google.com/assets/colab-badge.svg)](https://colab.research.google.com/github/snsie/bme3053c/blob/main/lessons/01_welcome_bme3053c.ipynb)"
      ]
    },
    {
      "cell_type": "markdown",
      "metadata": {
        "id": "k2de57kqmXBm"
      },
      "source": [
        "###Instructor: XXX\n",
        "* XXX\n",
        "\n",
        "---\n",
        "\n",
        "##Supervised Teaching Students\n",
        "\n",
        "\n",
        "* XXX\n",
        "  * XXX\n",
        "\n",
        "* XXX\n",
        "  * XXX\n",
        "\n",
        "---\n",
        "\n",
        "##Learning Assistant\n",
        "* XXX\n"
      ]
    },
    {
      "cell_type": "markdown",
      "metadata": {
        "id": "tRmK01ggqJLo"
      },
      "source": [
        "#What to expect from your LA\n",
        "\n",
        "\n",
        "* LAs are near-peers, who\n",
        "  * have passed this course with strong academic standing and\n",
        "  * are trained in collaborative learning strategies to improve your learning experience. Ask them how to study/learn/navigate material\n",
        "  * are not a TA and therefore don’t participate in direct instruction or grading.\n",
        "* Your LA will\n",
        "  * Help you develop better learning techniques; essentially help you learn how to learn better\n",
        "  * Help you navigate and digest new course material\n",
        "  * Guide you, through a series of questions, to the answer.\n",
        "* Your LA will NOT\n",
        "  * Be your personal academic tutor (i.e., they will NOT explain content.)\n",
        "  * Provide you with final HW/quiz/exam answers\n",
        "  * Grade your assignments or discuss grades/rubrics\n"
      ]
    },
    {
      "cell_type": "markdown",
      "metadata": {
        "id": "mUeYwV6zqrF1"
      },
      "source": [
        "#How to interact with your LA\n",
        "\n",
        "* Your LA is a great resource for course-specific guidance and support.\n",
        "* Reach out when you feel confused, overwhelmed or need guidance about where to start or how to deal with a problem.\n",
        "* Don’t ask the LA for direct answers or solutions.\n",
        "* Don’t try to interrogate the LA to learn about exam/HW/quiz details.\n",
        "* Your LA is a fellow BME student. Be respectful of their time.\n",
        "* Never discuss grading issues with your LA.\n"
      ]
    },
    {
      "cell_type": "markdown",
      "metadata": {
        "id": "aHqy8xGWbW_o"
      },
      "source": [
        "#Seeking Help\n",
        "\n",
        "* Questions should be sent to STs and LA\n",
        "* If not resolved, then contact the instructor.\n",
        "* All communication should happen through Canvas and the GitHub Classroom\n"
      ]
    },
    {
      "cell_type": "markdown",
      "metadata": {
        "id": "jGtVR3rOcPPd"
      },
      "source": [
        "# Get to Know Each Other!\n",
        "\n",
        "* Please upload a profile photo on Canvas\n",
        "* Participate in class discussions\n",
        "\n"
      ]
    },
    {
      "cell_type": "markdown",
      "metadata": {
        "id": "f4v2m1JtrwBo"
      },
      "source": [
        "#Examples of Computer Applications in BME\n",
        "\n",
        "* **Personalized Medicine:**\n",
        "  * Autonomously monitor patient health metrics and detect serious medical complications before they occur\n",
        "* **Medical Data Analysis:**\n",
        "  * Analyze medical images for disease diagnosis and\n",
        "  * Analyze large datasets from clinical trials or electronic health records\n",
        "* **Bioinformatics:**\n",
        "  * Analyze DNA sequences, protein structures, and gene expression to understand genetic diseases or develop new drugs"
      ]
    },
    {
      "cell_type": "markdown",
      "metadata": {
        "id": "8-Ug-OAT6H8f"
      },
      "source": [
        "#Course Goals\n",
        "* Develop a proficiency in computer programming with Python\n",
        "* Develop strategies to analyze and visualize biomedical data\n"
      ]
    },
    {
      "cell_type": "markdown",
      "metadata": {
        "id": "sL7S-R3w833c"
      },
      "source": [
        "#Course Outline\n",
        "* Welcome & Course Logistics\n",
        "* Python Basics – Part 1\n",
        "* Python Basics – Part 2\n",
        "* Python Libraries\n",
        "* Matrix Computations\n",
        "* Signal Processing\n",
        "* Review-Midterm Exam\n",
        "* Machine Learning\n",
        "* Supervised Learning\n",
        "* Unsupervised Learning\n",
        "* Advanced Applications – Part 1\n",
        "* Advanced Applications – Part 2\n",
        "* Advanced Applications – Part 3\n",
        "* Project Troubleshooting\n",
        "* Project Presentation\n"
      ]
    },
    {
      "cell_type": "markdown",
      "metadata": {
        "id": "PVWituLiKJdI"
      },
      "source": [
        "#Weekly Timeline\n",
        "* Lectures:\n",
        "  * Tuesdays - 10:30 - 11:20\n",
        "  * Thursdays - 10:30 - 12:35\n",
        "* Quizes:\n",
        "  * Available on Thursdays at 5 PM\n",
        "  * Due on Friday at 5 PM\n",
        "* Homework\n",
        "  * Available on Thursdays at 1 PM\n",
        "  * Due the following Wednesday at 12 AM\n"
      ]
    },
    {
      "cell_type": "markdown",
      "metadata": {
        "id": "-mAm3GC8_wKk"
      },
      "source": [
        "#Grading\n",
        "\n",
        "|Percent|Grade|Grade Points|\n",
        "|--------------------------|---------------||\n",
        "|93.00-100.00|A|4.00|\n",
        "|90.0 - 92.99\t|A-|3.67|\n",
        "|87.00-89.99\tB|B+|3.33|\n",
        "|83.00 - 86.99|B|3.00|\n",
        "|80.0 - 82.99\t|B-|2.67|\n",
        "|77.00 - 79.99|C+|2.33|\n",
        "|73.00 - 76.99|C|2.00|\n",
        "|70.0 - 72.99\t|C-|1.67|\n",
        "|67.00 - 69.99|D+|1.33|\n",
        "|63.0 - 66.99 |D|1.00|\n",
        "|60.00 - 62.99|D-|0.67|\n",
        "|0.00 - 59.99|F|0.00|\n"
      ]
    },
    {
      "cell_type": "markdown",
      "metadata": {
        "id": "zvH0Nv32Lq5b"
      },
      "source": [
        "#Final Project\n",
        "* Open-ended computer application in BME\n",
        "* One submission per team (3-4 people/team)\n",
        "  * Randomly assigned members, let us know by end of week if you need to change\n",
        "* Upload a video that is 5-minutes or less in duration to YouTube (indicate as \"unlisted\" if you don't want to make it public)\n",
        "* Submission\n",
        "  * YouTube video link\n",
        "  * Source code (including a ReadMe file) on GitHub\n",
        "  * Project report (2-4 pages)"
      ]
    },
    {
      "cell_type": "markdown",
      "metadata": {
        "id": "CiscePOwNC7E"
      },
      "source": [
        "#Where to find course materials?\n",
        "\n",
        "* Canvas\n",
        " * Primary location for course materials\n",
        "* GitHub\n",
        " * Lessons, homework, and project info"
      ]
    },
    {
      "cell_type": "markdown",
      "metadata": {
        "id": "9ymPmY8dr0LK"
      },
      "source": [
        "---\n",
        "#**Tips for Success**\n",
        "---\n",
        "* **Bring your laptops to follow along with each lecture**\n",
        "* Ask Questions!\n",
        " * Questions should first be sent to STs and LA. Contact the instructor if the question isn't resolved\n",
        " * All communication should happen through Canvas\n",
        "* Pay attention to formatting rules!\n",
        "  * Points will be deducted if formatting rules are not followed\n",
        "  * Homework assignments will inform you of the formatting rules that need to be followed\n"
      ]
    },
    {
      "cell_type": "markdown",
      "metadata": {
        "id": "Vns0uXH4q3N5"
      },
      "source": [
        "#Python\n",
        "* High-level programming language that is intended to be readable and straightforward\n",
        "  * **Indentation** is used to define the scope of loops, functions and other constructs\n",
        "  * Semicolons are not required to end a line of code\n",
        "\n",
        "* One of the most popular programming languages in the world\n",
        "* Commonly used in data science, AI, and scientific computing\n",
        "* Access to a vast quantity of open-source software\n",
        "\n"
      ]
    },
    {
      "cell_type": "markdown",
      "metadata": {
        "id": "M-yyAc0Cl6xB"
      },
      "source": [
        "## Working with Libraries"
      ]
    },
    {
      "cell_type": "markdown",
      "metadata": {
        "id": "XvtNZVg3mAEo"
      },
      "source": [
        "* Python makes it easy to work with a wide range of libraries.\n",
        "* You can install or create your own libraries to add additional functionalities to your scripts.\n",
        "* Some libraries, such as the math library, are already provided when you first\n",
        "install python."
      ]
    },
    {
      "cell_type": "code",
      "execution_count": null,
      "metadata": {
        "colab": {
          "base_uri": "https://localhost:8080/"
        },
        "id": "7RCR6EcHeMi6",
        "outputId": "94840746-82fa-4249-884c-56f500ea26e1"
      },
      "outputs": [
        {
          "data": {
            "text/plain": [
              "6.123233995736766e-17"
            ]
          },
          "execution_count": 16,
          "metadata": {},
          "output_type": "execute_result"
        }
      ],
      "source": [
        "'''\n",
        "\n",
        "'''\n",
        "import math\n",
        "\n",
        "ex_angle=math.pi/2\n",
        "math.cos(ex_angle)"
      ]
    },
    {
      "cell_type": "markdown",
      "metadata": {
        "id": "3DoR7LMlmFyd"
      },
      "source": [
        "##Providing Comments"
      ]
    },
    {
      "cell_type": "markdown",
      "metadata": {
        "id": "zyOJ0vR6mWRt"
      },
      "source": [
        "* As shown below, ```#``` or triple quotes can be used to add comments, which are ignored by the Python interpretor\n",
        "* Providing descriptive comments that explain your logic makes it easy for your team (or yourself in a few months) to understand your logic\n",
        "* **Some homework assignments will ask you to provide [docstrings](https://peps.python.org/pep-0257/) for your functions!**"
      ]
    },
    {
      "cell_type": "code",
      "execution_count": null,
      "metadata": {
        "id": "D6Jrd8JWyfPq"
      },
      "outputs": [],
      "source": [
        "# is used to provide comments in python\n",
        "\n",
        "\"\"\"\n",
        "Triple quotes can be used to define comments or strings that span multiple\n",
        "lines.\n",
        "\n",
        "Triple quotes are commonly used to define docstrings, which describe modules,\n",
        "classes, or functions.\n",
        "\"\"\"\n",
        "\n",
        "'''\n",
        "Your triple quotes can either be single quotes or double quotes, but you can't\n",
        "mix them.\n",
        "'''"
      ]
    },
    {
      "cell_type": "markdown",
      "metadata": {
        "id": "QAJaB30OnbNo"
      },
      "source": [
        "##Debugging"
      ]
    },
    {
      "cell_type": "markdown",
      "metadata": {
        "id": "2TYjS6fNoEW1"
      },
      "source": [
        "* Python's large community makes it easy to find solutions to your problem with your browser\n",
        "* Copy the error message that is provided without including anything that is too specific to your script (e.g., your variable names or your exact line that triggered the error)\n"
      ]
    },
    {
      "cell_type": "markdown",
      "metadata": {
        "id": "L9vjUeXxo7dY"
      },
      "source": [
        "✏️ **Exercise:** Run the code below and use your browser to search for solutions to the error"
      ]
    },
    {
      "cell_type": "code",
      "execution_count": 2,
      "metadata": {
        "id": "9iGzR9dZl3cT"
      },
      "outputs": [],
      "source": [
        "2x='3"
      ]
    },
    {
      "cell_type": "markdown",
      "metadata": {
        "id": "uNLip0dlbeQM"
      },
      "source": [
        "#[Google Colab](https://colab.research.google.com)\n",
        "* Colab is a free Python-based Jupyter Notebook service that runs on Google's servers\n",
        "  * Colab notebooks make it easy to combine executable code with\n",
        "  * Code cells can be run individually, which is useful when developing a piece of code\n",
        "\n",
        "<br/>\n",
        "<br/>\n",
        "<center><img  src=\"https://github.com/snsie/bme3053c-files/raw/main/images/lessons/colab_features.drawio.png\" alt='Colab Features'/></center>\n",
        "\n"
      ]
    },
    {
      "cell_type": "markdown",
      "metadata": {
        "id": "lV9fSc4GQZP5"
      },
      "source": [
        "#Homework 1\n",
        "\n",
        "* Create a GitHub account and join the GitHub classroom\n",
        "* Complete the first three chapters of 3Blue1Brown's [linear algebra course](https://www.3blue1brown.com/topics/linear-algebra) (You will be quizzed on this)\n",
        "* Write >300 words about a BME-related computer application that you would like to create\n",
        "\n",
        "\n",
        "\n"
      ]
    }
  ],
  "metadata": {
    "colab": {
      "provenance": [],
      "toc_visible": true
    },
    "kernelspec": {
      "display_name": "Python 3.9.7 64-bit",
      "language": "python",
      "name": "python3"
    },
    "language_info": {
      "name": "python",
      "version": "3.9.7"
    },
    "orig_nbformat": 4,
    "vscode": {
      "interpreter": {
        "hash": "5974ac25dc9be56ffc04c26f1dcea484687dd3721d1ee5a9c3f4a235d03fe9b9"
      }
    }
  },
  "nbformat": 4,
  "nbformat_minor": 0
}
