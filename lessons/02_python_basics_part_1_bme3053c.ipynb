{
  "cells": [
    {
      "cell_type": "markdown",
      "metadata": {
        "id": "zxMSBUaZoKCY"
      },
      "source": [
        "#BME3053C - Computer Applications for BME\n",
        "\n",
        "<br/>\n",
        "\n",
        "<h1 align=\"center\">Python Basics - Part 1</h1>\n",
        "\n",
        "---\n",
        "\n",
        "<center><h2>Lesson 02</h2></center>\n",
        "\n",
        "\n",
        "[![Open In Colab](https://colab.research.google.com/assets/colab-badge.svg)](https://colab.research.google.com/github/snsie/bme3053c/blob/main/lessons/02_python_basics_part_1_bme3053c.ipynb)"
      ]
    },
    {
      "cell_type": "markdown",
      "metadata": {
        "id": "QPtjGMBnTz9s"
      },
      "source": [
        "# Variables\n",
        "\n"
      ]
    },
    {
      "cell_type": "markdown",
      "metadata": {
        "id": "XCOVUFhxtRQc"
      },
      "source": [
        "* Enable saving and referencing values throughout an application\n",
        "* The ```=``` symbol is used to assign a value on the right to the name on the left\n",
        "\n",
        "```\n",
        "example_number = 5\n",
        "```\n",
        "\n",
        "\n"
      ]
    },
    {
      "cell_type": "markdown",
      "metadata": {
        "id": "w7K0mVsC3xlw"
      },
      "source": [
        "#### ✏️ **Exercise**  \n",
        " 1. Copy the code above into this cell\n",
        " 2. Click on the variable explorer icon *{x}* in the Colab toolbar and see if your variable is listed.\n"
      ]
    },
    {
      "cell_type": "code",
      "execution_count": null,
      "metadata": {
        "id": "_wSGRYfR0r-4"
      },
      "outputs": [],
      "source": []
    },
    {
      "cell_type": "markdown",
      "metadata": {
        "id": "aveXwdgdtcuv"
      },
      "source": [
        "#Functions\n",
        "\n"
      ]
    },
    {
      "cell_type": "markdown",
      "metadata": {
        "id": "FLXrklLd170_"
      },
      "source": [
        "\n",
        "* Enables converting multiple lines of code into a single line that can be reused anywhere\n",
        "* Makes code easier to write, read, and maintain\n",
        "* Helps Python control the scope and lifetime of variables, which improves memory management\n",
        "* Called using the function name, followed by a parentheses (e.g., ```print('hello')```)"
      ]
    },
    {
      "cell_type": "markdown",
      "metadata": {
        "id": "qGQkOolpnvMt"
      },
      "source": [
        "##Creating Functions\n",
        "\n"
      ]
    },
    {
      "cell_type": "markdown",
      "metadata": {
        "id": "IccCaOVgn08M"
      },
      "source": [
        "**Important**: All code inside a function must be indented using tab or four spaces.\n",
        "* Begin the definition of a new function with def, followed by an appropriate name for the function.\n",
        "* Add parentheses ```()``` after the function name.\n",
        "* Inside the parentheses, list any number of input arguments, separated by commas ,, that your function will use (many functions take no arguments).\n",
        "* Add a colon : after the closing parentheses.\n",
        "* If you want the function to output something, add a return statement, followed by the variable or expression you want to return.\n",
        "  * **If you don't return any  A return statement is not necessary!\n",
        "\n",
        "```\n",
        "def add_two_numbers(x,y):\n",
        "      local_var = x + y\n",
        "      return local_var\n",
        "\n",
        "print(add_two_numbers(3,4))\n",
        "```"
      ]
    },
    {
      "cell_type": "markdown",
      "metadata": {
        "id": "D9T9rUTL3fn_"
      },
      "source": [
        "#### ✏️ **Exercise**  \n",
        " 1. Copy the code above into this cell\n",
        " 2. Check if local_var is saved in your variable explorer\n"
      ]
    },
    {
      "cell_type": "code",
      "execution_count": null,
      "metadata": {
        "id": "g7RKZGJl1Wsu"
      },
      "outputs": [],
      "source": []
    },
    {
      "cell_type": "markdown",
      "metadata": {
        "id": "rudBHtsmoIcX"
      },
      "source": [
        "##[Built-in Functions](https://docs.python.org/3/library/functions.html)"
      ]
    },
    {
      "cell_type": "markdown",
      "metadata": {
        "id": "PQ869uHAqFxw"
      },
      "source": [
        "Built-in functions are always available and make it easy to a wide range of tasks, such as:\n",
        "\n",
        "* **Mathematical Operation**s: Functions like round(), sum(), min(), max(), and abs() perform basic mathematical operations on numbers.\n",
        "* **String Manipulation**: Functions like len(), str(), format(), and upper() help manipulate and format strings.\n",
        "\n",
        "* **Type Conversion**: Functions such as int(), float(), str(), and list() convert values from one data type to another.\n",
        "\n",
        "* **Data Structure Operations**: Functions like len(), sorted(), reversed(), and enumerate() help in working with lists, tuples, sets, and dictionaries.\n",
        "\n",
        "* **Input/Output Operations**: Functions such as print() and input() handle basic input and output tasks.\n",
        "\n",
        "* **File Handling**: Functions like open(), read(), write(), and close() manage file operations.\n",
        "\n",
        "* **Iterating and Looping**: Functions like range(), map(), filter(), and zip() assist in looping and applying functions over iterable objects.\n",
        "\n",
        "* **Object Inspection**: Functions such as type(), id(), dir(), and help() are used to inspect objects and get information about them."
      ]
    },
    {
      "cell_type": "code",
      "execution_count": 4,
      "metadata": {
        "colab": {
          "base_uri": "https://localhost:8080/"
        },
        "id": "NrYjwZvbqIT0",
        "outputId": "a55eb327-111c-44db-d4b6-de1eecc7e647"
      },
      "outputs": [
        {
          "name": "stdout",
          "output_type": "stream",
          "text": [
            "2.5 rounded = 2\n",
            "3.5 rounded = 4\n"
          ]
        }
      ],
      "source": [
        "#Run this cell and observe the round() function rounding rules.\n",
        "print('2.5 rounded =',round(2.5))\n",
        "print('3.5 rounded =',round(3.5))"
      ]
    },
    {
      "cell_type": "markdown",
      "metadata": {
        "id": "WpDr3ngHvCI4"
      },
      "source": [
        "# Naming Variables and Functions"
      ]
    },
    {
      "cell_type": "markdown",
      "metadata": {
        "id": "t5TJhCZDvFve"
      },
      "source": [
        "* Can contain **only** letters, digits, and underscores (\"_\")\n",
        "* Cannot start with a digit\n",
        "* Try to accurately describe your variables with the smallest number of words possible\n",
        "  * *This requires finding a balance between descriptiveness and conciseness.*\n",
        "    * Understanding the logic behind a script is difficult when names either lack good descriptions or are very long.\n",
        "* Cannot be a python reserved word.\n"
      ]
    },
    {
      "cell_type": "code",
      "execution_count": null,
      "metadata": {
        "colab": {
          "base_uri": "https://localhost:8080/"
        },
        "id": "elTirIT0wb7v",
        "outputId": "2fec41df-93f6-4c58-eebc-971bd6c9a6b8"
      },
      "outputs": [
        {
          "name": "stdout",
          "output_type": "stream",
          "text": [
            "['False', 'None', 'True', 'and', 'as', 'assert', 'async', 'await', 'break', 'class', 'continue', 'def', 'del', 'elif', 'else', 'except', 'finally', 'for', 'from', 'global', 'if', 'import', 'in', 'is', 'lambda', 'nonlocal', 'not', 'or', 'pass', 'raise', 'return', 'try', 'while', 'with', 'yield']\n"
          ]
        }
      ],
      "source": [
        "import keyword\n",
        "\n",
        "print(keyword.kwlist)"
      ]
    },
    {
      "cell_type": "markdown",
      "metadata": {
        "id": "d8fmOow87Y3o"
      },
      "source": [
        "## [snake_case](https://en.wikipedia.org/wiki/Snake_case) Naming Convention\n"
      ]
    },
    {
      "cell_type": "markdown",
      "metadata": {
        "id": "crFbvzPKwJe_"
      },
      "source": [
        "\n",
        "**In this course we will expect everyone to use the [snake_case](https://en.wikipedia.org/wiki/Snake_case) naming convention!**\n",
        "* Describe your variables and functions using lower case words that are separated by an underscore. (i.e., ```example_number = 5```)\n",
        "\n",
        "---\n",
        "\n",
        "**Points will be deducted if this naming convention isn't followed!**\n",
        "\n",
        "---"
      ]
    },
    {
      "cell_type": "markdown",
      "metadata": {
        "id": "42Ftnuz19d64"
      },
      "source": [
        "#### ✏️ **Exercise**  \n",
        "1. Fix the variable name below to make it follow the snake_case naming convention."
      ]
    },
    {
      "cell_type": "code",
      "execution_count": 6,
      "metadata": {
        "id": "b7YCzR0XwhQp"
      },
      "outputs": [],
      "source": [
        "RandomNumber=19"
      ]
    },
    {
      "cell_type": "markdown",
      "metadata": {
        "id": "tDfFp1gp9ZuB"
      },
      "source": [
        "#Variable Types\n"
      ]
    },
    {
      "cell_type": "markdown",
      "metadata": {
        "id": "NDm434XL0QXn"
      },
      "source": [
        "* Variables can store data of different types\n",
        "* You will receive an error message if you try to combine variables with different types (e.g., ```var=3+\"cat\"```)\n"
      ]
    },
    {
      "cell_type": "markdown",
      "metadata": {
        "id": "OhAO_n8S4yZM"
      },
      "source": [
        "\n",
        "## [Built-in Types](https://docs.python.org/3/library/stdtypes.html)"
      ]
    },
    {
      "cell_type": "markdown",
      "metadata": {
        "id": "Jj_jdX244pKI"
      },
      "source": [
        "\n",
        "|Type Categories|Types|Examples|\n",
        "|---|---|---|\n",
        "|Numeric| [```int```](https://docs.python.org/3/library/functions.html#int),[```float```](https://docs.python.org/3/library/functions.html#float),[```complex```](https://docs.python.org/3/library/functions.html#complex)|```var=2```,```var=2.0```,```var=2+0j```|\n",
        "|Text|[```str```](https://docs.python.org/3/library/stdtypes.html#text-sequence-type-str)|```var=\"hello\"```|\n",
        "|Boolean| [```bool```](https://docs.python.org/3/library/stdtypes.html#boolean-type-bool)|```var=False```|\n",
        "|None|[```NoneType```](https://docs.python.org/3/library/types.html#types.NoneType)|```var=None```|\n",
        "|Sequence|[```list```](https://docs.python.org/3/library/stdtypes.html#lists),[```tuple```](https://docs.python.org/3/library/stdtypes.html#tuples),[```range```](https://docs.python.org/3/library/stdtypes.html#ranges)|```var=[1,2]```,```var=(1,2)```,```var=range(2)```|\n",
        "|Mapping|[```dict```](https://docs.python.org/3/tutorial/datastructures.html#dictionaries)|```var={\"first_name\":\"Pappy\",\"age\":72}```|\n",
        "|Set|[```set```](https://docs.python.org/3/tutorial/datastructures.html#sets),[```frozenset```](https://docs.python.org/3/library/stdtypes.html#frozenset)|```var={\"first_name\",\"age\"}```,```var=frozenset({\"first_name\",\"age\"})```|\n",
        "|Binary|[```bytes```](https://docs.python.org/3/library/stdtypes.html#bytes),[```bytearray```](https://docs.python.org/3/library/stdtypes.html#bytearray),[```memoryview```](https://docs.python.org/3/library/stdtypes.html#memoryview)|```var=b\"test\"```,```var=bytearray(3)```,```var=memoryview(bytes(3))```|"
      ]
    },
    {
      "cell_type": "markdown",
      "metadata": {
        "id": "_6vuTLp3mUQL"
      },
      "source": [
        "##Common Type Details"
      ]
    },
    {
      "cell_type": "markdown",
      "metadata": {
        "id": "Spc35-l-nJ2T"
      },
      "source": [
        "### **Numeric**"
      ]
    },
    {
      "cell_type": "markdown",
      "metadata": {
        "id": "YpWMj2b8mKoa"
      },
      "source": [
        "\n",
        "* [```int```](https://docs.python.org/3/library/functions.html#int): Whole numbers without decimal points\n",
        "  * Required when referencing array indices (e.g., ```var[0]``` is okay but ```var[0.0]``` isn't)\n",
        "* [```float```](https://docs.python.org/3/library/functions.html#float): Double-precision floating point numbers that can represent numbers with 15-17 significant digits of precision\n"
      ]
    },
    {
      "cell_type": "markdown",
      "metadata": {
        "id": "YuZRol3xnMnI"
      },
      "source": [
        "### **Text**"
      ]
    },
    {
      "cell_type": "markdown",
      "metadata": {
        "id": "lt_m_FZpnHzK"
      },
      "source": [
        "\n",
        "\n",
        "  * [```str```](https://docs.python.org/3/library/stdtypes.html#text-sequence-type-str):Sequences of characters that are wrapped with ```\"\"``` or ```''```\n",
        "    * The type of quotation used isn't important but you should stay consistent\n"
      ]
    },
    {
      "cell_type": "markdown",
      "metadata": {
        "id": "ykVSM2hly-2N"
      },
      "source": [
        "### **Boolean**"
      ]
    },
    {
      "cell_type": "markdown",
      "metadata": {
        "id": "dWy-lvdPy-AT"
      },
      "source": [
        "\n",
        "  * [```bool```](https://docs.python.org/3/library/stdtypes.html#boolean-type-bool): Similar to a light switch, can  either be True or False\n",
        "  * You can use type casting to convert numbers to bool and vice versa."
      ]
    },
    {
      "cell_type": "markdown",
      "metadata": {
        "id": "yz12_R7Gzyu7"
      },
      "source": [
        "### **Sequence**"
      ]
    },
    {
      "cell_type": "markdown",
      "metadata": {
        "id": "nbk9v1j8zy18"
      },
      "source": [
        "\n",
        "  * [```list```](https://docs.python.org/3/library/stdtypes.html#lists): lists of objects that can be modified after creating (lists are mutable)\n",
        "    * Elements in a list can be referenced using brackets ```[]```\n",
        "      * ```A[0]``` will reference the first element of the list (sequences start at 0 in Python and 1 in MATLAB)\n",
        "      * ```A[-1]``` will reference the last element in a list\n",
        "      * ```ints``` must be used to reference specific elements in a list (```x[0.0]``` will return an error)"
      ]
    },
    {
      "cell_type": "markdown",
      "metadata": {
        "id": "T8tgk3Bp5RaR"
      },
      "source": [
        "### [Slicing](https://python-reference.readthedocs.io/en/latest/docs/brackets/slicing.html) Sequences\n",
        "\n",
        "You can use slicing to reference multiple elements in a sequence.\n",
        "\n",
        "```\n",
        "sequence[start:stop[:step]]\n",
        "```\n",
        "\n",
        "* **start**\n",
        "  * **(Optional)** Defaults to 0\n",
        "  * Starting index of the slice\n",
        "* **stop**\n",
        "  * **(Optional)** Defaults to ```len(sequence)```\n",
        "  * The last index (exclusive) of the slice\n",
        "  * Because ```stop``` is exclusive, ```my_array[:3]``` will return the 0th, 1st, and 2nd element.  \n",
        "* **step**\n",
        "  * **(Optional)** Step value of the slice\n",
        "  * Defaults to 1"
      ]
    },
    {
      "cell_type": "markdown",
      "metadata": {
        "id": "35bqdzhGUwMD"
      },
      "source": [
        "#### ✏️ **Exercise**  \n",
        " 1. Print the last three elements of the list below.\n",
        " 2. Use slicing to create the following array: ```new_array=[5,8,2]```\n"
      ]
    },
    {
      "cell_type": "code",
      "execution_count": 10,
      "metadata": {
        "colab": {
          "base_uri": "https://localhost:8080/"
        },
        "id": "F6GEWdkh611f",
        "outputId": "dfb4c8b7-0672-4abd-d66d-cefce07aa6d1"
      },
      "outputs": [
        {
          "name": "stdout",
          "output_type": "stream",
          "text": [
            "[3]\n"
          ]
        }
      ],
      "source": [
        "my_array=[3,5,7,8,1,2]\n",
        "\n",
        "print(my_array[:1:2])"
      ]
    },
    {
      "cell_type": "markdown",
      "metadata": {
        "id": "3ZyawbnkaDQr"
      },
      "source": [
        "### Copying Arrays"
      ]
    },
    {
      "cell_type": "markdown",
      "metadata": {
        "id": "O1HGyBpgaRpP"
      },
      "source": [
        "* When you set one array equal to another using ```=```, you are not creating a new copy of the list. **Instead, you're creating a new reference to the same list.**\n",
        "*  **Modifying the new list will modify the old list!**\n",
        "* You can prevent this by setting the new array equal to the *elements* in the old array (i.e., list2=list1[:]), or using the copy library that is built into python.\n",
        "\n",
        "```\n",
        "import copy\n",
        "list2=copy.deepcopy(list1)\n",
        "```\n",
        "\n",
        "**This is an important thing to keep in mind when working with data structures!** Your functions may behave unexpectedly if you don't keep this in mind!"
      ]
    },
    {
      "cell_type": "code",
      "execution_count": 7,
      "metadata": {
        "id": "2__KearMbUSx"
      },
      "outputs": [],
      "source": [
        "list1 = [1, 2, 3]"
      ]
    },
    {
      "cell_type": "code",
      "execution_count": 6,
      "metadata": {
        "colab": {
          "base_uri": "https://localhost:8080/"
        },
        "id": "Q7xhDq08acPU",
        "outputId": "470d441f-8741-4317-862d-18127fea0908"
      },
      "outputs": [
        {
          "name": "stdout",
          "output_type": "stream",
          "text": [
            "[1, 2, 3]\n",
            "[1, 2, 3, 4]\n"
          ]
        }
      ],
      "source": [
        "import copy\n",
        "\n",
        "list2 = list1\n",
        "\n",
        "list2.append(4)\n",
        "\n",
        "print(list1)\n",
        "print(list2)"
      ]
    },
    {
      "cell_type": "markdown",
      "metadata": {
        "id": "Avwzgj-B22X_"
      },
      "source": [
        "##Checking an Object's Type\n",
        "**Python provides a ```type()``` function that can be used to check a variable's type**"
      ]
    },
    {
      "cell_type": "code",
      "execution_count": null,
      "metadata": {
        "colab": {
          "base_uri": "https://localhost:8080/"
        },
        "id": "6719Af3t3GiA",
        "outputId": "00f0a77e-3192-436c-e7b5-128f0d855361"
      },
      "outputs": [
        {
          "name": "stdout",
          "output_type": "stream",
          "text": [
            "<class 'int'>\n",
            "<class 'float'>\n"
          ]
        }
      ],
      "source": [
        "print(type(2))\n",
        "print(type(2.0))"
      ]
    },
    {
      "cell_type": "markdown",
      "metadata": {
        "id": "lFjABdpS5ev4"
      },
      "source": [
        "##Type Casting"
      ]
    },
    {
      "cell_type": "markdown",
      "metadata": {
        "id": "5F0zx9Fp5rHJ"
      },
      "source": [
        "### **Implicit Type Casting**\n",
        "Python automatically converts data types into another when it's required for a  particular operation."
      ]
    },
    {
      "cell_type": "code",
      "execution_count": null,
      "metadata": {
        "colab": {
          "base_uri": "https://localhost:8080/"
        },
        "id": "dqNU8WB152En",
        "outputId": "7c20197e-0d46-4297-ce32-0515c77ba536"
      },
      "outputs": [
        {
          "name": "stdout",
          "output_type": "stream",
          "text": [
            "z = 8.3\n",
            "x type = <class 'int'>\n",
            "y type = <class 'float'>\n",
            "z type = <class 'float'>\n"
          ]
        }
      ],
      "source": [
        "x = 5\n",
        "y = 3.3\n",
        "z = x + y\n",
        "\n",
        "\n",
        "print('z =', z)\n",
        "print('x type =',type(x))\n",
        "print('y type =',type(y))\n",
        "print('z type =',type(z))"
      ]
    },
    {
      "cell_type": "markdown",
      "metadata": {
        "id": "gzhQ3-vI6Idp"
      },
      "source": [
        "### Explicit Type Casting\n",
        "Explicit type casting can be used to manually convert a variable to a specific type"
      ]
    },
    {
      "cell_type": "code",
      "execution_count": null,
      "metadata": {
        "colab": {
          "base_uri": "https://localhost:8080/"
        },
        "id": "HcqXxtaH6nlJ",
        "outputId": "227f0423-56b3-4a8c-b4b0-a29d90d6c165"
      },
      "outputs": [
        {
          "name": "stdout",
          "output_type": "stream",
          "text": [
            "z = 8\n",
            "x type = <class 'int'>\n",
            "y type = <class 'float'>\n",
            "z type = <class 'int'>\n"
          ]
        }
      ],
      "source": [
        "x = 5\n",
        "y = 3.0\n",
        "\n",
        "z = x + int(y)\n",
        "print('z =', z)\n",
        "print('x type =',type(x))\n",
        "print('y type =',type(y))\n",
        "print('z type =',type(z))"
      ]
    },
    {
      "cell_type": "markdown",
      "metadata": {
        "id": "EsYKOETd8usR"
      },
      "source": [
        "Casting a float to an integer will always round down!\n"
      ]
    },
    {
      "cell_type": "code",
      "execution_count": null,
      "metadata": {
        "colab": {
          "base_uri": "https://localhost:8080/"
        },
        "id": "vOC_EsrN370_",
        "outputId": "38a8d44d-60f6-457f-c2c6-2059be9b0553"
      },
      "outputs": [
        {
          "name": "stdout",
          "output_type": "stream",
          "text": [
            "z = 8\n",
            "x type = <class 'int'>\n",
            "y type = <class 'float'>\n",
            "z type = <class 'int'>\n"
          ]
        }
      ],
      "source": [
        "x = 5\n",
        "y = 3.3\n",
        "\n",
        "z = x + int(y)\n",
        "print('z =', z)\n",
        "print('x type =',type(x))\n",
        "print('y type =',type(y))\n",
        "print('z type =',type(z))"
      ]
    },
    {
      "cell_type": "markdown",
      "metadata": {
        "id": "IN6POyrIzP04"
      },
      "source": [
        "#### ✏️ **Exercise**  \n",
        " 1. Change the value of ```my_number``` so that it is false when casted as a bool\n",
        " 2. Cast ```True``` to an ```int``` or ```float``` and print the value.\n"
      ]
    },
    {
      "cell_type": "code",
      "execution_count": null,
      "metadata": {
        "id": "9KyeLEbTzUPq"
      },
      "outputs": [],
      "source": [
        "my_number=2\n",
        "print(bool(my_number))"
      ]
    },
    {
      "cell_type": "markdown",
      "metadata": {
        "id": "SlDPyxTXie8P"
      },
      "source": [
        "#Order of Operations\n",
        "Python follows PEMDAS rules when evaluating complex expressions"
      ]
    },
    {
      "cell_type": "markdown",
      "metadata": {
        "id": "ewnqYZt0i2ng"
      },
      "source": [
        "<center><img  src=\"https://github.com/snsie/aicc24/raw/main/graphics/pemdas.gif\" alt='Colab Features'/></center>"
      ]
    },
    {
      "cell_type": "markdown",
      "metadata": {
        "id": "sbB6iVy5kag8"
      },
      "source": [
        "#### ✏️ **Exercise**\n",
        "\n",
        "1. Create a function that computes this expression when called: $\\frac{19 - 4^3}{5}$.\n",
        "\n",
        "* **Hint #1:** $4^3$ can be written in code as `4**3` (4^3 does not work!).\n",
        "* **Hint #2:** The function should return -9.0.\n",
        "* **Hint #3:** Remember `PEMDAS`.\n",
        "* **Hint #4:** No arguments are needed for this function."
      ]
    },
    {
      "cell_type": "code",
      "execution_count": null,
      "metadata": {
        "id": "qP2vIoMQzhMh"
      },
      "outputs": [],
      "source": []
    },
    {
      "cell_type": "markdown",
      "metadata": {
        "id": "SG-iTZ-7rF1M"
      },
      "source": [
        "#[String Methods](https://docs.python.org/3/library/stdtypes.html#string-methods)\n"
      ]
    },
    {
      "cell_type": "markdown",
      "metadata": {
        "id": "gK0nH1MnrK_P"
      },
      "source": [
        "* Python provides a variety of [String Methods](https://docs.python.org/3/library/stdtypes.html#string-methods) to make it easy modify strings.\n",
        "* String methods are built into stings and be called as shown below:\n",
        "\n"
      ]
    },
    {
      "cell_type": "code",
      "execution_count": null,
      "metadata": {
        "colab": {
          "base_uri": "https://localhost:8080/"
        },
        "id": "JkSw6MHklHJ4",
        "outputId": "d5b01120-6042-4fd7-fd0f-fa374117f686"
      },
      "outputs": [
        {
          "name": "stdout",
          "output_type": "stream",
          "text": [
            "my_name = Scott\n"
          ]
        }
      ],
      "source": [
        "my_name='00Scott00'.strip('0')\n",
        "\n",
        "print('my_name =',my_name)"
      ]
    },
    {
      "cell_type": "markdown",
      "metadata": {
        "id": "lU2Ce--4qCE9"
      },
      "source": [
        "#### ✏️**Exercise**\n",
        "1. Use python string methods to replace ```Wasps``` with something else you love.\n",
        "\n",
        "\n",
        " * **Hint #1:** ```replace``` is a good method for this task\n",
        " * **Hint #2:** ```replace``` does not mutate the original string!\n",
        " * **Hint #2:** Character patterns are case sensitive"
      ]
    },
    {
      "cell_type": "code",
      "execution_count": null,
      "metadata": {
        "colab": {
          "base_uri": "https://localhost:8080/"
        },
        "id": "G-wxNSVU3-bg",
        "outputId": "98046c8c-799a-439a-ae2e-4de34408b1d1"
      },
      "outputs": [
        {
          "name": "stdout",
          "output_type": "stream",
          "text": [
            "I love Wasps!\n"
          ]
        }
      ],
      "source": [
        "fav_animal_str=\"I love Wasps!\"\n",
        "\n",
        "print(fav_animal_str)"
      ]
    },
    {
      "cell_type": "markdown",
      "metadata": {
        "id": "NX6dWvxzWfRx"
      },
      "source": [
        "#Control Flow Tools"
      ]
    },
    {
      "cell_type": "markdown",
      "metadata": {
        "id": "MiBCUrbcW-Ru"
      },
      "source": [
        "## [```if``` Statements](https://docs.python.org/3/tutorial/controlflow.html#if-statements)"
      ]
    },
    {
      "cell_type": "markdown",
      "metadata": {
        "id": "lx4frFPOXwL0"
      },
      "source": [
        "* Allow you to execute a block of code only if a specified condition is true.\n",
        "* An ```if``` statement starts with the keyword ```if```, followed by a condition, and a colon ```:```. The indented block of code below it runs if the condition evaluates to True.\n",
        "```\n",
        "if condition1:\n",
        "    print('condition1 is',True)\n",
        "```\n",
        "* You can extend if statements with ```else``` for an alternative action if the condition is false, or use ```elif``` (short for \"else if\") to check additional conditions in sequence.\n",
        "  * If multiple ```elif``` conditions are True, only the code in the first True ```elif``` will be run\n",
        "   \n",
        "```\n",
        "x = 1\n",
        "if x < 0:\n",
        "    print('Input is less than zero')\n",
        "elif x == 0:\n",
        "    print('Input equals zero')\n",
        "elif x > 0:\n",
        "    print('Input is greater than zero')\n",
        "else:\n",
        "    print(ValueError(\"x is not an integer\"))\n",
        "```\n",
        "\n",
        "* **Combining Conditions**: The ```and``` operator is used to combine multiple conditions in an if statement, requiring all conditions to be true for the overall condition to be true. For example, ```if condition1 and condition2:``` only executes the block if both condition1 and condition2 are true.\n",
        "  * ```&``` can be used instead of ```and```.\n",
        "* **Evaluating Alternatives**: The ```or``` operator allows you to execute a block of code if at least one of the conditions is true. For example, ```if condition1 or condition2:``` will run the block if either condition1 or condition2 is true.\n",
        "  * ```|``` can be used instead of ```or```."
      ]
    },
    {
      "cell_type": "markdown",
      "metadata": {
        "id": "91LckqTYe2DW"
      },
      "source": [
        "###  Conditions > 2\n",
        "* If more than two conditions are required to be true for some code to run, then parentheses ```()``` should be used to group conditions.\n",
        "* Parentheses are not required if all conditions need to be true (```condition1 and condition2 and condition3```)  or only one condition needs to be true (```condition1 or condition2 or condition3```)"
      ]
    },
    {
      "cell_type": "markdown",
      "metadata": {
        "id": "bdHBLkTLdeJl"
      },
      "source": [
        "###Comparison Opperators"
      ]
    },
    {
      "cell_type": "markdown",
      "metadata": {
        "id": "tkdQAguSdg0_"
      },
      "source": [
        "|Operator|Definition|\n",
        "|-----|-----|\n",
        "| < | less than|\n",
        "| > | greater than |\n",
        "| == | equal to |\n",
        "| <= | less than or equal to|\n",
        "| >= | greater than or equal to |\n",
        "| != | not equal to |"
      ]
    },
    {
      "cell_type": "code",
      "execution_count": 1,
      "metadata": {
        "colab": {
          "base_uri": "https://localhost:8080/"
        },
        "id": "08ZofhlsXQ-B",
        "outputId": "bf6fddb4-e433-4a02-a6e6-94ab068746bf"
      },
      "outputs": [
        {
          "name": "stdout",
          "output_type": "stream",
          "text": [
            "Please enter an integer: 3\n",
            "More\n"
          ]
        }
      ],
      "source": [
        "x = int(input(\"Please enter an integer: \"))\n",
        "\n",
        "if x < 0:\n",
        "    print('Input is equal to zero')\n",
        "elif x == 0:\n",
        "    print('Zero')\n",
        "elif x > 0:\n",
        "    print('Input is greater than zero')\n",
        "else:\n",
        "    ValueError(\"Input expects an integer\")"
      ]
    },
    {
      "cell_type": "markdown",
      "metadata": {
        "id": "NDz4Cd2LaVoX"
      },
      "source": [
        "## [```match``` Statements](https://docs.python.org/3/tutorial/controlflow.html#match-statements)"
      ]
    },
    {
      "cell_type": "markdown",
      "metadata": {
        "id": "PdSxiYxVhPm9"
      },
      "source": [
        "* The ```match``` statements can be used to handle multiple conditions by matching the expression against various patterns defined in ```case``` clauses.\n",
        "\n",
        "```\n",
        "def http_error(status):\n",
        "    match status:\n",
        "        case 400:\n",
        "            return \"Bad request\"\n",
        "        case 404:\n",
        "            return \"Not found\"\n",
        "        case 418:\n",
        "            return \"I'm a teapot\"\n",
        "        case _:\n",
        "            return \"Something's wrong with the internet\"\n",
        "```"
      ]
    },
    {
      "cell_type": "markdown",
      "metadata": {
        "id": "9k_qgUP1hrwq"
      },
      "source": [
        "#### ✏️**Exercise**\n",
        "In the US, most high school students are between the ages of 14 and 18.\n",
        "\n",
        "1. Create a function that receives a person's age as a user [```input```](https://docs.python.org/3/library/functions.html#input) and informs you if the person is \"likely in high school\" or \"too young\" or \"too old\".\n",
        "2. The function should inform you if \"The provided age isn't valid\" (e.g., if the input isn't a valid number)\n",
        "\n",
        "\n",
        " * **Hint #1:** The [```input```](https://docs.python.org/3/library/functions.html#input) function can be used to receive an input **as a string**."
      ]
    },
    {
      "cell_type": "code",
      "execution_count": null,
      "metadata": {
        "id": "-KlifLrWlzmh"
      },
      "outputs": [],
      "source": []
    },
    {
      "cell_type": "markdown",
      "metadata": {
        "id": "CLLyX1BGmnI5"
      },
      "source": [
        "##```for``` Statements"
      ]
    },
    {
      "cell_type": "markdown",
      "metadata": {
        "id": "ycZI-uocms78"
      },
      "source": [
        "* **Iterating Over Sequences:** A ```for``` loop allows you to iterate over a sequence (like a list, tuple, dictionary, set, or string), executing a block of code for each item in the sequence. This is useful for processing items in a collection one by one.\n",
        "\n",
        "* **Range-Based Loops:** You can use the ```range()``` function in conjunction with a for loop to iterate over a sequence of numbers, which is helpful for repeating actions a specific number of times or when indexing is needed.\n",
        "\n",
        "* **Automatic Unpacking:** In a for loop, Python can automatically unpack elements if they are iterable, like tuples. For example, for key, value in dictionary.items(): lets you directly access the key and value in each iteration, simplifying code that works with pairs of items.\n",
        "\n",
        "```\n",
        "names=['jack','jill','joe','suzan']\n",
        "for name in names:\n",
        "    print(name)\n",
        "```"
      ]
    },
    {
      "cell_type": "markdown",
      "metadata": {
        "id": "xdNGyQzVnyO5"
      },
      "source": [
        "#### ✏️**Exercise**\n",
        "1. Create a function that receives an array and returns an array with elements equal to twice the value of the input array.\n",
        "2. The function should inform you if the \"The provided array isn't valid\" (e.g., if the input isn't an array or any of the elements aren't valid numbers)\n",
        "\n",
        "\n",
        " * **Hint #1:** One way to do this is to first create an empty list ```output_list=[]``` and [```append```](https://docs.python.org/3/tutorial/datastructures.html) the modified elements to the new list."
      ]
    },
    {
      "cell_type": "code",
      "execution_count": 2,
      "metadata": {
        "id": "0sclM9v0nuFd"
      },
      "outputs": [],
      "source": []
    },
    {
      "cell_type": "markdown",
      "metadata": {
        "id": "6WixXh_D48jK"
      },
      "source": [
        "\n",
        "\n",
        " ### The [```range```](https://docs.python.org/3/tutorial/controlflow.html#the-range-function) Function\n",
        "\n",
        " Immutable sequence of ordered numbers that is commonly used to loop through code a specific number of times in [```for```](https://docs.python.org/3/reference/compound_stmts.html#for) loops\n",
        "\n",
        "* The arguments provided when creating a ```range``` object can be used to set a ```start```, a ```stop```, and a ```step``` interval when creating an ordered list of integers\n",
        "  * Will iterate from\n",
        "  * ```start```: where the sequence will begin (inclusive)\n",
        "    * Defaults to 0\n",
        "  * ```stop```: where the sequence will begin (exclusive)\n",
        "    * No default value\n",
        "  * ```step```:\n",
        "    * defaults to 1\n",
        "    * cannot be 0\n",
        "* The number of arguments provided affects the way they are interpreted.\n",
        "  * ```range(stop)```: Providing a single argument will set the ```stop``` and set ```start``` and ```step``` to their default values.\n",
        "  *  ```range(start,stop)```: Providing two variables will set ```start``` and ```stop```. ```step``` will be set to 1\n",
        "    * prividing a ```stop``` that is higher than the  histep and a single argument will set the ```stop``` and set ```start``` and ```step``` to their default values."
      ]
    },
    {
      "cell_type": "code",
      "execution_count": null,
      "metadata": {
        "colab": {
          "base_uri": "https://localhost:8080/"
        },
        "id": "7VepGNCAVA0M",
        "outputId": "91522f71-f193-4a23-f4b7-add592e69a99"
      },
      "outputs": [
        {
          "name": "stdout",
          "output_type": "stream",
          "text": [
            "[0, 1, 2, 3, 4] = range(5)\n",
            "[1, 2, 3, 4] = range(1,5)\n",
            "[0, 2, 4] = range(0, 5, 2)\n",
            "[0, 3, 6, 9] = range(0, 10, 3)\n",
            "[0, -1, -2, -3, -4, -5, -6, -7, -8, -9] = range(0, -10, -1)\n",
            "[] = range(0)\n",
            "[] = range(4, 2)\n"
          ]
        }
      ],
      "source": [
        "#From: https://docs.python.org/3/library/stdtypes.html#ranges\n",
        "print(list(range(5)),'= range(5)')\n",
        "\n",
        "print(list(range(1,5)),'= range(1,5)')\n",
        "print(list(range(0, 5, 2)),'= range(0, 5, 2)')\n",
        "print(list(range(0, 10, 3)),'= range(0, 10, 3)')\n",
        "print(list(range(0, -10, -1)),'= range(0, -10, -1)')\n",
        "print(list(range(0)), '= range(0)')\n",
        "print(list(range(4, 2)),'= range(4, 2)')"
      ]
    }
  ],
  "metadata": {
    "colab": {
      "provenance": [],
      "toc_visible": true
    },
    "kernelspec": {
      "display_name": "Python 3.9.7 64-bit",
      "language": "python",
      "name": "python3"
    },
    "language_info": {
      "name": "python",
      "version": "3.9.7"
    },
    "orig_nbformat": 4,
    "vscode": {
      "interpreter": {
        "hash": "5974ac25dc9be56ffc04c26f1dcea484687dd3721d1ee5a9c3f4a235d03fe9b9"
      }
    }
  },
  "nbformat": 4,
  "nbformat_minor": 0
}
